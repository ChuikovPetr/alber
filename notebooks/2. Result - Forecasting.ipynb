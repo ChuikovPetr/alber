{
 "cells": [
  {
   "cell_type": "code",
   "execution_count": 1,
   "metadata": {},
   "outputs": [],
   "source": [
    "%load_ext autoreload\n",
    "%autoreload 2\n",
    "\n",
    "import pandas as pd\n",
    "import h5py\n",
    "import numpy as np\n",
    "from typing import List, Tuple\n",
    "from pathlib import Path\n",
    "import lightgbm as lgb\n",
    "import pickle\n",
    "\n",
    "from alber.forecasting import get_nec_features_vitrine, load_model, create_result_dataset"
   ]
  },
  {
   "cell_type": "markdown",
   "metadata": {},
   "source": [
    "# 0. Parameters"
   ]
  },
  {
   "cell_type": "code",
   "execution_count": 2,
   "metadata": {},
   "outputs": [],
   "source": [
    "data_path = Path('../../Storage/alber/data.h5')\n",
    "score_path = Path('../../Storage/alber/forecast.h5')\n",
    "\n",
    "list_features = [\n",
    "    'stoch_k_price_21_1',\n",
    "    'wap_balance',\n",
    "    'volume_imbalance',\n",
    "    'rel_order_count_1_80',\n",
    "    'rel_price_5_10',\n",
    "    'log_return_mean_price',\n",
    "    'bid_spread',\n",
    "    'ask_spread',\n",
    "    'Money',\n",
    "    'rel_stoch_price_21_1_3',\n",
    "    'rel_volume_ask_bid1',\n",
    "    'bid_ask_spread2',\n",
    "    'total_volume',\n",
    "    'rel_price_1_5',\n",
    "    'rel_price_40_80'\n",
    "]"
   ]
  },
  {
   "cell_type": "markdown",
   "metadata": {},
   "source": [
    "# 1. Get features vitrine"
   ]
  },
  {
   "cell_type": "code",
   "execution_count": null,
   "metadata": {
    "scrolled": true
   },
   "outputs": [
    {
     "name": "stderr",
     "output_type": "stream",
     "text": [
      "/share/pchuykov/alber/alber/load_data.py:59: FutureWarning: merging between different levels is deprecated and will be removed in a future version. (1 levels on the left, 2 on the right)\n",
      "  trades = pd.merge(trades, sum_w, on=['time'])\n",
      "/share/pchuykov/alber/alber/load_data.py:59: PerformanceWarning: dropping on a non-lexsorted multi-index without a level parameter may impact performance.\n",
      "  trades = pd.merge(trades, sum_w, on=['time'])\n"
     ]
    },
    {
     "name": "stdout",
     "output_type": "stream",
     "text": [
      "ob.shape == (9871642, 9), trades.shape == (12522917, 4)\n"
     ]
    }
   ],
   "source": [
    "%%time\n",
    "train_vitrine = get_nec_features_vitrine(data_path)\n",
    "train_vitrine.shape"
   ]
  },
  {
   "cell_type": "code",
   "execution_count": null,
   "metadata": {},
   "outputs": [],
   "source": [
    "train_vitrine"
   ]
  },
  {
   "cell_type": "markdown",
   "metadata": {},
   "source": [
    "# 2. Get model, make predictions and save result"
   ]
  },
  {
   "cell_type": "code",
   "execution_count": null,
   "metadata": {},
   "outputs": [],
   "source": [
    "model = load_model('model_mf_15f', Path('../saved_models/'))\n",
    "model"
   ]
  },
  {
   "cell_type": "code",
   "execution_count": null,
   "metadata": {},
   "outputs": [],
   "source": [
    "%%time\n",
    "train_vitrine['score'] = model.predict(train_vitrine[list_features])"
   ]
  },
  {
   "cell_type": "code",
   "execution_count": null,
   "metadata": {
    "scrolled": true
   },
   "outputs": [],
   "source": [
    "train_vitrine['time'].shape"
   ]
  },
  {
   "cell_type": "code",
   "execution_count": null,
   "metadata": {},
   "outputs": [],
   "source": [
    "%%time\n",
    "create_result_dataset(score_path, train_vitrine['score'], train_vitrine['time'])"
   ]
  },
  {
   "cell_type": "code",
   "execution_count": null,
   "metadata": {},
   "outputs": [],
   "source": []
  },
  {
   "cell_type": "code",
   "execution_count": null,
   "metadata": {},
   "outputs": [],
   "source": []
  },
  {
   "cell_type": "code",
   "execution_count": null,
   "metadata": {},
   "outputs": [],
   "source": []
  },
  {
   "cell_type": "code",
   "execution_count": 26,
   "metadata": {},
   "outputs": [
    {
     "name": "stdout",
     "output_type": "stream",
     "text": [
      "Keys: <KeysViewHDF5 ['Return']>\n",
      "<class 'h5py._hl.group.Group'>\n",
      "['Res', 'TS']\n",
      "<HDF5 dataset \"Res\": shape (9871642,), type \"<f8\">\n"
     ]
    }
   ],
   "source": [
    "with h5py.File(\"../../Storage/alber/result.h5\", \"r\") as f:\n",
    "    # Print all root level object names (aka keys) \n",
    "    # these can be group or dataset names \n",
    "    print(\"Keys: %s\" % f.keys())\n",
    "    # get first object name/key; may or may NOT be a group\n",
    "    a_group_key = list(f.keys())[0]\n",
    "    \n",
    "    print(type(f[a_group_key])) \n",
    "    \n",
    "    data = list(f[a_group_key])\n",
    "    print(data)\n",
    "    print(f['Return']['Res'])"
   ]
  },
  {
   "cell_type": "code",
   "execution_count": 16,
   "metadata": {},
   "outputs": [
    {
     "name": "stdout",
     "output_type": "stream",
     "text": [
      "Keys: <KeysViewHDF5 ['Return']>\n",
      "<class 'h5py._hl.group.Group'>\n",
      "['Score', 'TS']\n",
      "<HDF5 dataset \"Score\": shape (1000,), type \"<f8\">\n"
     ]
    }
   ],
   "source": [
    "with h5py.File(\"../../Storage/alber/score.h5\", \"r\") as f:\n",
    "    # Print all root level object names (aka keys) \n",
    "    # these can be group or dataset names \n",
    "    print(\"Keys: %s\" % f.keys())\n",
    "    # get first object name/key; may or may NOT be a group\n",
    "    a_group_key = list(f.keys())[0]\n",
    "    \n",
    "    print(type(f[a_group_key])) \n",
    "    \n",
    "    data = list(f[a_group_key])\n",
    "    print(data)\n",
    "    print(f['Return']['Score'])"
   ]
  },
  {
   "cell_type": "code",
   "execution_count": null,
   "metadata": {},
   "outputs": [],
   "source": []
  }
 ],
 "metadata": {
  "kernelspec": {
   "display_name": "Python 3",
   "language": "python",
   "name": "python3"
  },
  "language_info": {
   "codemirror_mode": {
    "name": "ipython",
    "version": 3
   },
   "file_extension": ".py",
   "mimetype": "text/x-python",
   "name": "python",
   "nbconvert_exporter": "python",
   "pygments_lexer": "ipython3",
   "version": "3.8.5"
  }
 },
 "nbformat": 4,
 "nbformat_minor": 4
}
