{
 "cells": [
  {
   "cell_type": "code",
   "execution_count": 1,
   "metadata": {
    "scrolled": true
   },
   "outputs": [
    {
     "name": "stderr",
     "output_type": "stream",
     "text": [
      "2022-10-30 12:06:15,475 :: <module> :: Falling back to TensorFlow client; we recommended you install the Cloud TPU client directly with pip install cloud-tpu-client.\n",
      "2022-10-30 12:06:15,646 :: <module> :: Creating converter from 7 to 5\n",
      "2022-10-30 12:06:15,647 :: <module> :: Creating converter from 5 to 7\n",
      "2022-10-30 12:06:15,647 :: <module> :: Creating converter from 7 to 5\n",
      "2022-10-30 12:06:15,648 :: <module> :: Creating converter from 5 to 7\n"
     ]
    }
   ],
   "source": [
    "%load_ext autoreload\n",
    "%autoreload 2\n",
    "\n",
    "import functools\n",
    "import gc\n",
    "import logging\n",
    "import pickle\n",
    "import sys\n",
    "from pathlib import Path\n",
    "from typing import Dict, List, Tuple, Callable\n",
    "\n",
    "import matplotlib.pyplot as plt\n",
    "import pandas as pd\n",
    "import numpy as np\n",
    "#import tensorflow_addons as tfa\n",
    "from IPython.display import clear_output\n",
    "#from keras.regularizers import L1L2\n",
    "from multiprocess import Pool\n",
    "from multiprocess.dummy import Pool as ThreadPool\n",
    "from tqdm import tqdm\n",
    "import lightgbm as lgb\n",
    "\n",
    "\n",
    "logging.basicConfig(level=logging.DEBUG, format='%(asctime)s :: %(funcName)s :: %(message)s')\n",
    "\n",
    "from ccf.models_cust import ModelLGB\n",
    "from ccf.datasets import get_sample, get_initial_setting, get_left_right_name, get_std\n",
    "from sklearn.metrics import r2_score\n",
    "from ccf.utils import delete_objs, cuttoff_ts_in_df, natural_reindex, sort_df, create_block_vars_from_separate\n",
    "from ccf.analytics import get_analytics_row, get_pairs_rel_analytics, paired_test_greedy_fs\n",
    "#from ccf.callbacks import FrequencyCallback, FrequencyEpoch\n",
    "from ccf.preprocess import get_sample_2d_lgb\n",
    "from tensorflow.keras.callbacks import EarlyStopping\n",
    "pd.set_option('display.max_columns', 10_000)"
   ]
  },
  {
   "cell_type": "code",
   "execution_count": 2,
   "metadata": {
    "scrolled": true
   },
   "outputs": [],
   "source": [
    "def one_factor_choose(base, target_type, corr, full_f_list):\n",
    "    current_feature_list = full_f_list[:-1]\n",
    "    folds = []\n",
    "    for i in range(10):\n",
    "        folds.append([\n",
    "            Path(f'{base}/{target_type}/X_{i+1}.parquet.gzip'), \n",
    "            Path(f'{base}/{target_type}/train_val_{i+1}.parquet.gzip'), \n",
    "            Path(f'{base}/{target_type}/val_{i+1}.parquet.gzip'),\n",
    "            Path(f'{base}/features_1f.parquet.gzip')\n",
    "        ])\n",
    "\n",
    "\n",
    "    count_obs_train = None\n",
    "    count_obs_val_train = None\n",
    "    count_obs_val = None\n",
    "\n",
    "    features_path = Path(f'{base}/features_1f.parquet.gzip')\n",
    "    list_candidates = [full_f_list[-1]]\n",
    "    list_candidates.sort()\n",
    "\n",
    "    selection_rule = {\"field_name\": \"rel_diff_macro_lower_boot_95\", \"ascending\": True}\n",
    "\n",
    "    dict_fields, _, _ = get_initial_setting(\n",
    "        features_path,\n",
    "        count_cuttoff = 0\n",
    "    )\n",
    "\n",
    "    experiment_name = f'{target_type}_block_vars_corr_0{str(int(corr*10))}'\n",
    "\n",
    "    analytics_path = Path(f'{base}/one_factor/')\n",
    "\n",
    "    get_sample_func = lambda possible_feature_list, base_path, count_obs, scaler, features_path: get_sample_2d_lgb(\n",
    "        possible_feature_list,\n",
    "        base_path,\n",
    "        count_obs,\n",
    "        features_path,\n",
    "        categoricals=[],\n",
    "        experiment_name=None,\n",
    "        keys=[\"time\"],\n",
    "    )\n",
    "\n",
    "    logging.debug(f\"experiment_name == {experiment_name}\")\n",
    "    curr_setting = {\n",
    "       \"verbose_eval\": 50,\n",
    "        \"num_boost_round\": 500,\n",
    "        \"early_stopping_rounds\": 50,\n",
    "        \"params\": {\n",
    "            \"num_leaves\": 131_072,\n",
    "            \"max_bin\": 256,\n",
    "            \"learning_rate\": 0.01,\n",
    "            \"objective\": \"regression\",\n",
    "            \"metric\": \"rmse\",\n",
    "            \"max_depth\": 6,\n",
    "            \"feature_fraction\": 1.0,\n",
    "            \"feature_fraction_bynode\": 0.6,\n",
    "        },\n",
    "    }\n",
    "    model_class = lambda train_matrix_shape, name: ModelLGB(\n",
    "        save_path = Path(f'{base}') / Path(\"saved_models\"), \n",
    "        name = name,\n",
    "        metric = r2_score,\n",
    "        learning_setting = curr_setting\n",
    "    )\n",
    "    pred_iter_perf=[0.0 for i in range(50)]\n",
    "    paired_test_greedy_fs(\n",
    "        current_feature_list,\n",
    "        list_candidates,\n",
    "        dict_fields,\n",
    "        folds,\n",
    "        count_obs_train,\n",
    "        count_obs_val,\n",
    "        experiment_name,\n",
    "        model_class,\n",
    "        analytics_path,\n",
    "        selection_rule,\n",
    "        get_sample_func,\n",
    "        pred_iter_perf,\n",
    "        count_obs_val_train,\n",
    "        print_iteration=False,\n",
    "        count_iteration=5,\n",
    "    )\n",
    "    clear_output()"
   ]
  },
  {
   "cell_type": "code",
   "execution_count": 3,
   "metadata": {
    "scrolled": true
   },
   "outputs": [],
   "source": [
    "base = '../../Storage/alber/'\n",
    "for target_type in [f'ret_1_10_folds_exp']:\n",
    "    for corr in [0.5, 0.6, 0.7, 0.8, 0.9, 1.0]:\n",
    "        full_f_list = pd.read_csv(f'{base}/{target_type}/analytics/one_factor_block_vars_vars_60_corr_0{str(int(corr*10))}.csv')\n",
    "        full_f_list = list(full_f_list.new_var)\n",
    "        print(target_type, corr, len(full_f_list))\n",
    "        one_factor_choose(base, target_type, corr, full_f_list)"
   ]
  },
  {
   "cell_type": "code",
   "execution_count": null,
   "metadata": {},
   "outputs": [],
   "source": []
  }
 ],
 "metadata": {
  "kernelspec": {
   "display_name": "Python 3",
   "language": "python",
   "name": "python3"
  },
  "language_info": {
   "codemirror_mode": {
    "name": "ipython",
    "version": 3
   },
   "file_extension": ".py",
   "mimetype": "text/x-python",
   "name": "python",
   "nbconvert_exporter": "python",
   "pygments_lexer": "ipython3",
   "version": "3.8.8"
  }
 },
 "nbformat": 4,
 "nbformat_minor": 2
}
